{
  "cells": [
    {
      "cell_type": "markdown",
      "source": [
        "# Big Data Analysis with PySpark – Internship Task 1\n",
        "## Objective\n",
        "Analyze a large dataset using PySpark to demonstrate big data handling, aggregation, and derive useful business insights.\n",
        "\n",
        "## Dataset\n",
        "Taxi trip data containing millions of records including trip distance, passenger count, pickup/dropoff locations (ids), etc.\n"
      ],
      "metadata": {
        "id": "jfDy_atAy6Wo"
      }
    },
    {
      "cell_type": "code",
      "source": [
        "!pip install pyspark\n",
        "from pyspark.sql import SparkSession\n"
      ],
      "metadata": {
        "colab": {
          "base_uri": "https://localhost:8080/"
        },
        "id": "2xVO06WAyeBt",
        "outputId": "2557ef05-a728-48af-a4ed-68ccfb79fd22"
      },
      "execution_count": null,
      "outputs": [
        {
          "output_type": "stream",
          "name": "stdout",
          "text": [
            "Requirement already satisfied: pyspark in /usr/local/lib/python3.11/dist-packages (3.5.5)\n",
            "Requirement already satisfied: py4j==0.10.9.7 in /usr/local/lib/python3.11/dist-packages (from pyspark) (0.10.9.7)\n"
          ]
        }
      ]
    },
    {
      "cell_type": "code",
      "source": [
        "#getting top 5 details in the dataset\n",
        "spark = SparkSession.builder.appName(\"TaxiTripAnalysis\").getOrCreate()\n",
        "df = spark.read.csv(\"taxi_trip_data.csv\", header=True, inferSchema=True)\n",
        "df.show(5)\n"
      ],
      "metadata": {
        "colab": {
          "base_uri": "https://localhost:8080/"
        },
        "id": "M4YEmbZUzFxl",
        "outputId": "7865d6ed-cfed-4e1b-dfba-7b0068f7f12e"
      },
      "execution_count": null,
      "outputs": [
        {
          "output_type": "stream",
          "name": "stdout",
          "text": [
            "+---------+-------------------+-------------------+---------------+-------------+---------+------------------+------------+-----------+-----+-------+----------+------------+-------------+------------+------------------+-------------------+\n",
            "|vendor_id|    pickup_datetime|   dropoff_datetime|passenger_count|trip_distance|rate_code|store_and_fwd_flag|payment_type|fare_amount|extra|mta_tax|tip_amount|tolls_amount|imp_surcharge|total_amount|pickup_location_id|dropoff_location_id|\n",
            "+---------+-------------------+-------------------+---------------+-------------+---------+------------------+------------+-----------+-----+-------+----------+------------+-------------+------------+------------------+-------------------+\n",
            "|        2|2018-03-29 13:37:13|2018-03-29 14:17:01|              1|        18.15|        3|                 N|           1|       70.0|  0.0|    0.0|     16.16|        10.5|          0.3|       96.96|               161|                  1|\n",
            "|        2|2018-03-29 13:37:18|2018-03-29 14:15:33|              1|         4.59|        1|                 N|           1|       25.0|  0.0|    0.5|      5.16|         0.0|          0.3|       30.96|                13|                230|\n",
            "|        2|2018-03-29 13:26:57|2018-03-29 13:28:03|              1|          0.3|        1|                 N|           1|        3.0|  0.0|    0.5|      0.76|         0.0|          0.3|        4.56|               231|                231|\n",
            "|        2|2018-03-29 13:07:48|2018-03-29 14:03:05|              2|        16.97|        1|                 N|           1|       49.5|  0.0|    0.5|      5.61|        5.76|          0.3|       61.67|               231|                138|\n",
            "|        2|2018-03-29 14:19:11|2018-03-29 15:19:59|              5|        14.45|        1|                 N|           1|       45.5|  0.0|    0.5|     10.41|        5.76|          0.3|       62.47|                87|                138|\n",
            "+---------+-------------------+-------------------+---------------+-------------+---------+------------------+------------+-----------+-----+-------+----------+------------+-------------+------------+------------------+-------------------+\n",
            "only showing top 5 rows\n",
            "\n"
          ]
        }
      ]
    },
    {
      "cell_type": "code",
      "source": [
        "# Show 10 random rows from the dataset\n",
        "df.sample(False, 0.001).show(10, truncate=False)\n"
      ],
      "metadata": {
        "colab": {
          "base_uri": "https://localhost:8080/"
        },
        "id": "UX5CRSCH6ZFR",
        "outputId": "0b44069f-8b77-4e1c-b214-da95e82fc353"
      },
      "execution_count": null,
      "outputs": [
        {
          "output_type": "stream",
          "name": "stdout",
          "text": [
            "+---------+-------------------+-------------------+---------------+-------------+---------+------------------+------------+-----------+-----+-------+----------+------------+-------------+------------+------------------+-------------------+---------------------+\n",
            "|vendor_id|pickup_datetime    |dropoff_datetime   |passenger_count|trip_distance|rate_code|store_and_fwd_flag|payment_type|fare_amount|extra|mta_tax|tip_amount|tolls_amount|imp_surcharge|total_amount|pickup_location_id|dropoff_location_id|trip_duration_minutes|\n",
            "+---------+-------------------+-------------------+---------------+-------------+---------+------------------+------------+-----------+-----+-------+----------+------------+-------------+------------+------------------+-------------------+---------------------+\n",
            "|2        |2018-09-29 00:44:07|2018-09-29 01:07:34|2              |11.93        |1        |N                 |1           |33.5       |0.5  |0.5    |8.11      |5.76        |0.3          |48.67       |233               |89                 |23.45                |\n",
            "|2        |2018-05-30 21:18:58|2018-05-30 21:53:25|1              |13.16        |1        |N                 |1           |40.0       |0.5  |0.5    |11.76     |5.76        |0.3          |58.82       |138               |90                 |34.45                |\n",
            "|1        |2018-11-01 16:03:05|2018-11-01 16:40:16|1              |7.3          |1        |N                 |1           |28.0       |1.0  |0.5    |7.1       |5.76        |0.3          |42.66       |186               |25                 |37.18333333333333    |\n",
            "|2        |2018-12-04 19:13:07|2018-12-04 19:58:13|2              |12.26        |1        |N                 |1           |40.0       |1.0  |0.5    |12.54     |0.0         |0.3          |54.34       |237               |61                 |45.1                 |\n",
            "|1        |2018-08-04 02:43:05|2018-08-04 03:05:51|1              |10.1         |1        |N                 |1           |29.0       |0.5  |0.5    |7.2       |5.76        |0.3          |43.26       |138               |90                 |22.766666666666666   |\n",
            "|1        |2018-07-12 13:19:57|2018-07-12 13:42:15|2              |5.8          |1        |N                 |1           |22.0       |0.0  |0.5    |4.55      |0.0         |0.3          |27.35       |12                |161                |22.3                 |\n",
            "|1        |2018-04-11 10:05:04|2018-04-11 10:32:12|1              |7.3          |1        |N                 |1           |24.5       |0.0  |0.5    |5.05      |0.0         |0.3          |30.35       |13                |140                |27.133333333333333   |\n",
            "|2        |2018-07-24 13:48:25|2018-07-24 14:06:42|4              |8.11         |1        |N                 |1           |24.5       |0.0  |0.5    |6.21      |5.76        |0.3          |37.27       |263               |138                |18.283333333333335   |\n",
            "|2        |2018-05-11 15:13:06|2018-05-11 15:49:36|1              |3.08         |1        |N                 |1           |23.0       |0.0  |0.5    |4.76      |0.0         |0.3          |28.56       |236               |186                |36.5                 |\n",
            "|1        |2018-09-16 16:48:27|2018-09-16 17:32:13|1              |5.6          |1        |N                 |1           |28.0       |0.0  |0.5    |5.75      |0.0         |0.3          |34.55       |48                |65                 |43.766666666666666   |\n",
            "+---------+-------------------+-------------------+---------------+-------------+---------+------------------+------------+-----------+-----+-------+----------+------------+-------------+------------+------------------+-------------------+---------------------+\n",
            "only showing top 10 rows\n",
            "\n"
          ]
        }
      ]
    },
    {
      "cell_type": "code",
      "source": [
        "#he average fare paid per mile (or per unit of distance) across all trips.\n",
        "df.selectExpr(\"avg(fare_amount / trip_distance)\").show()\n"
      ],
      "metadata": {
        "colab": {
          "base_uri": "https://localhost:8080/"
        },
        "id": "aEDBKYRu2mrU",
        "outputId": "b1e33ff1-28ae-4534-d02a-d987a0259d4d"
      },
      "execution_count": null,
      "outputs": [
        {
          "output_type": "stream",
          "name": "stdout",
          "text": [
            "+----------------------------------+\n",
            "|avg((fare_amount / trip_distance))|\n",
            "+----------------------------------+\n",
            "|                 8.057220300882245|\n",
            "+----------------------------------+\n",
            "\n"
          ]
        }
      ]
    },
    {
      "cell_type": "code",
      "source": [
        "df.printSchema()\n",
        "df.sample(False, 0.001).show(10, truncate=False)\n"
      ],
      "metadata": {
        "colab": {
          "base_uri": "https://localhost:8080/"
        },
        "id": "vosiw3DPzRO5",
        "outputId": "adbdcc22-c15a-48e4-b224-f0f3792f1dcf"
      },
      "execution_count": null,
      "outputs": [
        {
          "output_type": "stream",
          "name": "stdout",
          "text": [
            "root\n",
            " |-- vendor_id: integer (nullable = true)\n",
            " |-- pickup_datetime: timestamp (nullable = true)\n",
            " |-- dropoff_datetime: timestamp (nullable = true)\n",
            " |-- passenger_count: integer (nullable = true)\n",
            " |-- trip_distance: double (nullable = true)\n",
            " |-- rate_code: integer (nullable = true)\n",
            " |-- store_and_fwd_flag: string (nullable = true)\n",
            " |-- payment_type: integer (nullable = true)\n",
            " |-- fare_amount: double (nullable = true)\n",
            " |-- extra: double (nullable = true)\n",
            " |-- mta_tax: double (nullable = true)\n",
            " |-- tip_amount: double (nullable = true)\n",
            " |-- tolls_amount: double (nullable = true)\n",
            " |-- imp_surcharge: double (nullable = true)\n",
            " |-- total_amount: double (nullable = true)\n",
            " |-- pickup_location_id: integer (nullable = true)\n",
            " |-- dropoff_location_id: integer (nullable = true)\n",
            "\n",
            "+---------+-------------------+-------------------+---------------+-------------+---------+------------------+------------+-----------+-----+-------+----------+------------+-------------+------------+------------------+-------------------+\n",
            "|vendor_id|pickup_datetime    |dropoff_datetime   |passenger_count|trip_distance|rate_code|store_and_fwd_flag|payment_type|fare_amount|extra|mta_tax|tip_amount|tolls_amount|imp_surcharge|total_amount|pickup_location_id|dropoff_location_id|\n",
            "+---------+-------------------+-------------------+---------------+-------------+---------+------------------+------------+-----------+-----+-------+----------+------------+-------------+------------+------------------+-------------------+\n",
            "|1        |2018-04-21 15:57:56|2018-04-21 16:15:16|1              |7.5          |1        |N                 |1           |22.5       |0.0  |0.5    |5.8       |0.0         |0.3          |29.1        |244               |48                 |\n",
            "|2        |2018-05-19 01:19:21|2018-05-19 01:39:14|1              |6.76         |1        |N                 |1           |21.5       |0.5  |0.5    |4.56      |0.0         |0.3          |27.36       |234               |97                 |\n",
            "|1        |2018-03-22 00:50:27|2018-03-22 01:15:13|1              |7.4          |1        |N                 |1           |24.5       |0.5  |0.5    |3.67      |0.0         |0.3          |29.47       |230               |189                |\n",
            "|2        |2018-12-05 23:53:42|2018-12-06 00:37:18|1              |20.59        |1        |N                 |1           |59.0       |0.5  |0.5    |18.09     |0.0         |0.3          |78.39       |48                |265                |\n",
            "|2        |2018-05-19 04:39:02|2018-05-19 05:07:35|1              |12.94        |1        |N                 |1           |37.0       |0.5  |0.5    |7.66      |0.0         |0.3          |45.96       |164               |67                 |\n",
            "|2        |2018-03-12 11:29:12|2018-03-12 11:56:13|1              |10.08        |1        |N                 |1           |29.5       |0.0  |0.5    |10.82     |5.76        |0.3          |46.88       |138               |162                |\n",
            "|1        |2018-10-22 20:43:07|2018-10-22 21:06:47|1              |7.9          |1        |N                 |1           |25.0       |0.5  |0.5    |5.25      |0.0         |0.3          |31.55       |237               |33                 |\n",
            "|2        |2018-08-25 18:54:28|2018-08-25 19:22:25|1              |10.83        |1        |N                 |1           |32.0       |0.0  |0.5    |7.71      |5.76        |0.3          |46.27       |138               |163                |\n",
            "|1        |2018-08-25 21:47:51|2018-08-25 22:42:15|1              |18.7         |1        |N                 |1           |54.0       |0.5  |0.5    |8.3       |0.0         |0.3          |63.6        |132               |181                |\n",
            "|1        |2018-01-12 20:03:27|2018-01-12 20:32:09|1              |4.9          |1        |N                 |1           |21.5       |0.5  |0.5    |3.42      |0.0         |0.3          |26.22       |114               |236                |\n",
            "+---------+-------------------+-------------------+---------------+-------------+---------+------------------+------------+-----------+-----+-------+----------+------------+-------------+------------+------------------+-------------------+\n",
            "only showing top 10 rows\n",
            "\n"
          ]
        }
      ]
    },
    {
      "cell_type": "code",
      "source": [
        "# Total trips\n",
        "df.count()\n",
        "\n",
        "# Most common passenger counts\n",
        "df.groupBy(\"passenger_count\").count().orderBy(\"count\", ascending=False).show()\n",
        "\n",
        "# Average trip distance\n",
        "df.selectExpr(\"avg(trip_distance)\").show()\n"
      ],
      "metadata": {
        "colab": {
          "base_uri": "https://localhost:8080/"
        },
        "id": "9SSRRfhdzVTD",
        "outputId": "54b32f8a-462f-4256-94d0-1c48fb88c753"
      },
      "execution_count": null,
      "outputs": [
        {
          "output_type": "stream",
          "name": "stdout",
          "text": [
            "+---------------+------+\n",
            "|passenger_count| count|\n",
            "+---------------+------+\n",
            "|              1|348251|\n",
            "|              2| 73245|\n",
            "|              5| 22684|\n",
            "|              3| 20154|\n",
            "|              6| 13457|\n",
            "|              4|  9334|\n",
            "|              0|  4270|\n",
            "|              7|    13|\n",
            "|              8|    12|\n",
            "|              9|    11|\n",
            "+---------------+------+\n",
            "\n",
            "+------------------+\n",
            "|avg(trip_distance)|\n",
            "+------------------+\n",
            "| 8.846192344398553|\n",
            "+------------------+\n",
            "\n"
          ]
        }
      ]
    },
    {
      "cell_type": "code",
      "source": [
        "df.groupBy(\"pickup_location_id\").count().orderBy(\"count\", ascending=False).show(10)\n"
      ],
      "metadata": {
        "colab": {
          "base_uri": "https://localhost:8080/"
        },
        "id": "SxxXp4i3zYWK",
        "outputId": "d35ea73b-de2f-40c2-c17f-c19330d5e661"
      },
      "execution_count": null,
      "outputs": [
        {
          "output_type": "stream",
          "name": "stdout",
          "text": [
            "+------------------+------+\n",
            "|pickup_location_id| count|\n",
            "+------------------+------+\n",
            "|               138|120569|\n",
            "|               132| 34171|\n",
            "|               230| 16309|\n",
            "|               161| 14472|\n",
            "|               162| 12953|\n",
            "|               186| 11226|\n",
            "|                48| 10881|\n",
            "|               163|  9982|\n",
            "|               170|  9846|\n",
            "|               231|  9799|\n",
            "+------------------+------+\n",
            "only showing top 10 rows\n",
            "\n"
          ]
        }
      ]
    },
    {
      "cell_type": "code",
      "source": [
        "df.groupBy(\"passenger_count\").count().orderBy(\"count\", ascending=False).show()\n"
      ],
      "metadata": {
        "colab": {
          "base_uri": "https://localhost:8080/"
        },
        "id": "ny7JoXrlzdRo",
        "outputId": "89aa4949-e5f8-4a43-8afb-a02a64edeb93"
      },
      "execution_count": null,
      "outputs": [
        {
          "output_type": "stream",
          "name": "stdout",
          "text": [
            "+---------------+------+\n",
            "|passenger_count| count|\n",
            "+---------------+------+\n",
            "|              1|348251|\n",
            "|              2| 73245|\n",
            "|              5| 22684|\n",
            "|              3| 20154|\n",
            "|              6| 13457|\n",
            "|              4|  9334|\n",
            "|              0|  4270|\n",
            "|              7|    13|\n",
            "|              8|    12|\n",
            "|              9|    11|\n",
            "+---------------+------+\n",
            "\n"
          ]
        }
      ]
    },
    {
      "cell_type": "code",
      "source": [
        "# Print the schema (structure) of the dataset\n",
        "df.printSchema()\n"
      ],
      "metadata": {
        "colab": {
          "base_uri": "https://localhost:8080/"
        },
        "id": "EfDKRARfzjp3",
        "outputId": "121664f2-c894-4fad-c558-221ba57da1a5"
      },
      "execution_count": null,
      "outputs": [
        {
          "output_type": "stream",
          "name": "stdout",
          "text": [
            "root\n",
            " |-- vendor_id: integer (nullable = true)\n",
            " |-- pickup_datetime: timestamp (nullable = true)\n",
            " |-- dropoff_datetime: timestamp (nullable = true)\n",
            " |-- passenger_count: integer (nullable = true)\n",
            " |-- trip_distance: double (nullable = true)\n",
            " |-- rate_code: integer (nullable = true)\n",
            " |-- store_and_fwd_flag: string (nullable = true)\n",
            " |-- payment_type: integer (nullable = true)\n",
            " |-- fare_amount: double (nullable = true)\n",
            " |-- extra: double (nullable = true)\n",
            " |-- mta_tax: double (nullable = true)\n",
            " |-- tip_amount: double (nullable = true)\n",
            " |-- tolls_amount: double (nullable = true)\n",
            " |-- imp_surcharge: double (nullable = true)\n",
            " |-- total_amount: double (nullable = true)\n",
            " |-- pickup_location_id: integer (nullable = true)\n",
            " |-- dropoff_location_id: integer (nullable = true)\n",
            "\n"
          ]
        }
      ]
    },
    {
      "cell_type": "code",
      "source": [
        "#average trip distance\n",
        "df.selectExpr(\"avg(trip_distance)\").show()\n"
      ],
      "metadata": {
        "colab": {
          "base_uri": "https://localhost:8080/"
        },
        "id": "ZjaizjNyznyo",
        "outputId": "3019e077-b56f-4236-972c-b62d59b49b07"
      },
      "execution_count": null,
      "outputs": [
        {
          "output_type": "stream",
          "name": "stdout",
          "text": [
            "+------------------+\n",
            "|avg(trip_distance)|\n",
            "+------------------+\n",
            "| 8.846192344398553|\n",
            "+------------------+\n",
            "\n"
          ]
        }
      ]
    },
    {
      "cell_type": "code",
      "source": [
        "#passenger counts like how many people are traveling and how many times they are traveling\n",
        "df.groupBy(\"passenger_count\").count().orderBy(\"count\", ascending=False).show()\n"
      ],
      "metadata": {
        "colab": {
          "base_uri": "https://localhost:8080/"
        },
        "id": "bOs3Wk5Xz-Vt",
        "outputId": "a7510fb1-e953-4f0a-980f-660924bb74f1"
      },
      "execution_count": null,
      "outputs": [
        {
          "output_type": "stream",
          "name": "stdout",
          "text": [
            "+---------------+------+\n",
            "|passenger_count| count|\n",
            "+---------------+------+\n",
            "|              1|348251|\n",
            "|              2| 73245|\n",
            "|              5| 22684|\n",
            "|              3| 20154|\n",
            "|              6| 13457|\n",
            "|              4|  9334|\n",
            "|              0|  4270|\n",
            "|              7|    13|\n",
            "|              8|    12|\n",
            "|              9|    11|\n",
            "+---------------+------+\n",
            "\n"
          ]
        }
      ]
    },
    {
      "cell_type": "code",
      "source": [
        "from pyspark.sql.functions import unix_timestamp, col\n",
        "\n",
        "df = df.withColumn(\"trip_duration_minutes\",\n",
        "    (unix_timestamp(\"dropoff_datetime\") - unix_timestamp(\"pickup_datetime\")) / 60)\n",
        "\n",
        "# Average trip duration\n",
        "df.selectExpr(\"avg(trip_duration_minutes)\").show()\n"
      ],
      "metadata": {
        "colab": {
          "base_uri": "https://localhost:8080/"
        },
        "id": "h1KrIzdE3_FC",
        "outputId": "dc71e094-b0b0-4c2d-dbb3-51b05058c90f"
      },
      "execution_count": null,
      "outputs": [
        {
          "output_type": "stream",
          "name": "stdout",
          "text": [
            "+--------------------------+\n",
            "|avg(trip_duration_minutes)|\n",
            "+--------------------------+\n",
            "|         36.08743187412456|\n",
            "+--------------------------+\n",
            "\n"
          ]
        }
      ]
    },
    {
      "cell_type": "code",
      "source": [
        "\n",
        "#average fare amount in the dataset\n",
        "df.selectExpr(\"sum(fare_amount)\").show()\n",
        "\n"
      ],
      "metadata": {
        "colab": {
          "base_uri": "https://localhost:8080/"
        },
        "id": "sDg3hju23Gh9",
        "outputId": "f14d9155-a1b8-475a-e003-909a6374d922"
      },
      "execution_count": null,
      "outputs": [
        {
          "output_type": "stream",
          "name": "stdout",
          "text": [
            "+--------------------+\n",
            "|    sum(fare_amount)|\n",
            "+--------------------+\n",
            "|1.5610735689999796E7|\n",
            "+--------------------+\n",
            "\n"
          ]
        }
      ]
    },
    {
      "cell_type": "code",
      "source": [
        "#no of columns and rows\n",
        "df.count()\n",
        "len(df.columns)\n"
      ],
      "metadata": {
        "colab": {
          "base_uri": "https://localhost:8080/"
        },
        "id": "2d2GzR7K0gKd",
        "outputId": "f2d930e3-e831-4bbe-c10c-5a7d701171df"
      },
      "execution_count": null,
      "outputs": [
        {
          "output_type": "execute_result",
          "data": {
            "text/plain": [
              "17"
            ]
          },
          "metadata": {},
          "execution_count": 24
        }
      ]
    },
    {
      "cell_type": "code",
      "source": [
        "# find the top 10 most frequently used drop-off locations in the dataset.\n",
        "df.groupBy(\"dropoff_location_id\").count().orderBy(\"count\", ascending=False).show(10)\n"
      ],
      "metadata": {
        "colab": {
          "base_uri": "https://localhost:8080/"
        },
        "id": "KJeu_zkG4VW6",
        "outputId": "6b4e2c12-cc19-421e-b866-da2ff44455bb"
      },
      "execution_count": null,
      "outputs": [
        {
          "output_type": "stream",
          "name": "stdout",
          "text": [
            "+-------------------+-----+\n",
            "|dropoff_location_id|count|\n",
            "+-------------------+-----+\n",
            "|                138|52674|\n",
            "|                230|12058|\n",
            "|                161|10676|\n",
            "|                162|10206|\n",
            "|                181| 9171|\n",
            "|                  1| 9118|\n",
            "|                231| 8888|\n",
            "|                265| 8784|\n",
            "|                 13| 8749|\n",
            "|                236| 8049|\n",
            "+-------------------+-----+\n",
            "only showing top 10 rows\n",
            "\n"
          ]
        }
      ]
    },
    {
      "cell_type": "code",
      "source": [
        "\n",
        "df.groupBy(\"pickup_location_id\").count().orderBy(\"count\", ascending=False).show(10)\n"
      ],
      "metadata": {
        "colab": {
          "base_uri": "https://localhost:8080/"
        },
        "id": "aqIzWPYq0ELq",
        "outputId": "06defb7e-cfe2-4c38-e615-c7f3a5c3ca32"
      },
      "execution_count": null,
      "outputs": [
        {
          "output_type": "stream",
          "name": "stdout",
          "text": [
            "+------------------+------+\n",
            "|pickup_location_id| count|\n",
            "+------------------+------+\n",
            "|               138|120569|\n",
            "|               132| 34171|\n",
            "|               230| 16309|\n",
            "|               161| 14472|\n",
            "|               162| 12953|\n",
            "|               186| 11226|\n",
            "|                48| 10881|\n",
            "|               163|  9982|\n",
            "|               170|  9846|\n",
            "|               231|  9799|\n",
            "+------------------+------+\n",
            "only showing top 10 rows\n",
            "\n"
          ]
        }
      ]
    },
    {
      "cell_type": "code",
      "source": [
        "df.groupBy(\"store_and_fwd_flag\").count().show()\n"
      ],
      "metadata": {
        "colab": {
          "base_uri": "https://localhost:8080/"
        },
        "id": "cZo2WL6u7Oz7",
        "outputId": "666ca583-fcf7-49e5-c745-c01849bb8b80"
      },
      "execution_count": null,
      "outputs": [
        {
          "output_type": "stream",
          "name": "stdout",
          "text": [
            "+------------------+------+\n",
            "|store_and_fwd_flag| count|\n",
            "+------------------+------+\n",
            "|                 Y|  2503|\n",
            "|                 N|488928|\n",
            "+------------------+------+\n",
            "\n"
          ]
        }
      ]
    },
    {
      "cell_type": "code",
      "source": [
        "df.orderBy(\"total_amount\", ascending=False).select(\"pickup_datetime\", \"dropoff_datetime\", \"total_amount\").show(1)\n"
      ],
      "metadata": {
        "colab": {
          "base_uri": "https://localhost:8080/"
        },
        "id": "GFDwgJtE7-yK",
        "outputId": "98cf045b-fbf8-429e-ce76-3b40bb7aacb3"
      },
      "execution_count": null,
      "outputs": [
        {
          "output_type": "stream",
          "name": "stdout",
          "text": [
            "+-------------------+-------------------+------------+\n",
            "|    pickup_datetime|   dropoff_datetime|total_amount|\n",
            "+-------------------+-------------------+------------+\n",
            "|2018-12-27 10:39:47|2018-12-27 10:39:47|    19269.65|\n",
            "+-------------------+-------------------+------------+\n",
            "only showing top 1 row\n",
            "\n"
          ]
        }
      ]
    },
    {
      "cell_type": "markdown",
      "source": [],
      "metadata": {
        "id": "dhha6o0T7Ogc"
      }
    },
    {
      "cell_type": "code",
      "source": [
        "df.filter(df[\"fare_amount\"] == 0).count()\n"
      ],
      "metadata": {
        "colab": {
          "base_uri": "https://localhost:8080/"
        },
        "id": "QZ4KvqeP6ryP",
        "outputId": "92eb8949-b7b4-4a2e-c94b-1126a2503c39"
      },
      "execution_count": null,
      "outputs": [
        {
          "output_type": "execute_result",
          "data": {
            "text/plain": [
              "526"
            ]
          },
          "metadata": {},
          "execution_count": 31
        }
      ]
    },
    {
      "cell_type": "code",
      "source": [
        "df.selectExpr(\"avg(extra)\", \"avg(tolls_amount)\", \"avg(imp_surcharge)\").show()\n"
      ],
      "metadata": {
        "colab": {
          "base_uri": "https://localhost:8080/"
        },
        "id": "kTFCBxuN9sAr",
        "outputId": "f1c77d9c-0da8-46a1-f716-a218b7091cd6"
      },
      "execution_count": null,
      "outputs": [
        {
          "output_type": "stream",
          "name": "stdout",
          "text": [
            "+-------------------+-----------------+------------------+\n",
            "|         avg(extra)|avg(tolls_amount)|avg(imp_surcharge)|\n",
            "+-------------------+-----------------+------------------+\n",
            "|0.31620854199267034|2.195315374897011|0.2982681393739385|\n",
            "+-------------------+-----------------+------------------+\n",
            "\n"
          ]
        }
      ]
    },
    {
      "cell_type": "code",
      "source": [
        "#Average Extra Charges(tolls ,Surcharge,etc)\n",
        "df.selectExpr(\"avg(total_amount / passenger_count)\").show()\n"
      ],
      "metadata": {
        "colab": {
          "base_uri": "https://localhost:8080/"
        },
        "id": "oas7tnT39tUH",
        "outputId": "064b295f-e0a5-4742-aee9-9f26a477a355"
      },
      "execution_count": null,
      "outputs": [
        {
          "output_type": "stream",
          "name": "stdout",
          "text": [
            "+-------------------------------------+\n",
            "|avg((total_amount / passenger_count))|\n",
            "+-------------------------------------+\n",
            "|                   33.833158040230494|\n",
            "+-------------------------------------+\n",
            "\n"
          ]
        }
      ]
    },
    {
      "cell_type": "code",
      "source": [
        "\n",
        "#Logest Trips by distance\n",
        "df.orderBy(\"trip_distance\", ascending=False).select(\"trip_distance\", \"pickup_datetime\", \"dropoff_datetime\").show(5)\n"
      ],
      "metadata": {
        "colab": {
          "base_uri": "https://localhost:8080/"
        },
        "id": "U5aVF3969tHV",
        "outputId": "3c4a3722-6397-431e-e4ca-bcc791064cfc"
      },
      "execution_count": null,
      "outputs": [
        {
          "output_type": "stream",
          "name": "stdout",
          "text": [
            "+-------------+-------------------+-------------------+\n",
            "|trip_distance|    pickup_datetime|   dropoff_datetime|\n",
            "+-------------+-------------------+-------------------+\n",
            "|      7655.76|2018-07-19 18:00:25|2018-07-23 10:54:16|\n",
            "|        301.9|2018-03-10 15:10:29|2018-03-10 21:28:55|\n",
            "|       245.06|2018-08-11 17:14:29|2018-08-11 21:37:54|\n",
            "|        211.6|2018-03-02 22:43:03|2018-03-02 22:43:36|\n",
            "|       204.54|2018-03-22 06:43:13|2018-03-22 09:59:34|\n",
            "+-------------+-------------------+-------------------+\n",
            "only showing top 5 rows\n",
            "\n"
          ]
        }
      ]
    },
    {
      "cell_type": "code",
      "source": [
        "\n",
        "#What kind of pricing rules.Trip Count by Rate Code\n",
        "df.groupBy(\"rate_code\").count().orderBy(\"count\", ascending=False).show(1)\n"
      ],
      "metadata": {
        "colab": {
          "base_uri": "https://localhost:8080/"
        },
        "id": "OBJHNhjc9s9w",
        "outputId": "1cd8ce9e-392f-4931-ba4a-d891b6e02e3d"
      },
      "execution_count": null,
      "outputs": [
        {
          "output_type": "stream",
          "name": "stdout",
          "text": [
            "+---------+------+\n",
            "|rate_code| count|\n",
            "+---------+------+\n",
            "|        1|466990|\n",
            "+---------+------+\n",
            "only showing top 1 row\n",
            "\n"
          ]
        }
      ]
    },
    {
      "cell_type": "code",
      "source": [
        "# Average Tip Percentage\n",
        "df = df.withColumn(\"tip_percentage\", (df[\"tip_amount\"] / df[\"fare_amount\"]) * 100)\n",
        "df.selectExpr(\"avg(tip_percentage)\").show()\n"
      ],
      "metadata": {
        "colab": {
          "base_uri": "https://localhost:8080/"
        },
        "id": "-LLIqr729s6S",
        "outputId": "86b5ac78-ec75-47a0-a07e-cca4e9576616"
      },
      "execution_count": null,
      "outputs": [
        {
          "output_type": "stream",
          "name": "stdout",
          "text": [
            "+-------------------+\n",
            "|avg(tip_percentage)|\n",
            "+-------------------+\n",
            "|  33.64052399221934|\n",
            "+-------------------+\n",
            "\n"
          ]
        }
      ]
    },
    {
      "cell_type": "code",
      "source": [],
      "metadata": {
        "id": "f-YmQKbu9ssr"
      },
      "execution_count": null,
      "outputs": []
    },
    {
      "cell_type": "markdown",
      "source": [],
      "metadata": {
        "id": "YdBb2z949rcQ"
      }
    },
    {
      "cell_type": "markdown",
      "source": [
        "1- Total trips analyzed: [491431]\n",
        "\n",
        "2- Most common passenger count: [1 passenger]\n",
        "\n",
        "3- Average trip distance:              \n",
        "[8.84619234439855 miles]\n",
        "\n",
        "4- Average Fare Per Mile: [8.057220300882245]\n",
        "\n",
        "5- Total Revenue : [1.5610735689999796E7]\n",
        "\n",
        "6- Average Trip Duration(in minutes):    [  36.08743187412456]\n",
        "\n",
        "7- Trips with Zero or Missing Fare(free rides or errors): [526]\n",
        "\n",
        "8- Shows how many trips were temporarily stored in the taxi system before being sent (due to signal loss etc.) : Yes[2503] and No[488928]\n",
        "\n",
        "9-Average Extra Charges (like tolls, surcharge, etc.):\n",
        " avg(extra)=0.31620854199267034| avgtolls_amount=2.195315374897011| avg(imp_surcharge)=0.2982681393739385|\n",
        "\n",
        "\n",
        "\n",
        "10- Average Total Amount per Passenger:\n",
        "[ 33.833158040230494]\n",
        "\n",
        "11-Logest Trips by Distance:[ trip distance=7655.76|pickup datetime=   2018-07-19 18:00:25|drop off date time=2018-07-23 10:54:16]\n",
        "\n",
        "12-Trip Count by Rate Code:[1-466990]\n",
        "\n",
        "13- Average Tip Percentage:[33.64052399221934]"
      ],
      "metadata": {
        "id": "GPSngHXN0Iv_"
      }
    },
    {
      "cell_type": "code",
      "source": [],
      "metadata": {
        "id": "_T2pLVCv14Hy"
      },
      "execution_count": null,
      "outputs": []
    }
  ],
  "metadata": {
    "colab": {
      "provenance": []
    },
    "kernelspec": {
      "display_name": "Python 3",
      "name": "python3"
    },
    "language_info": {
      "name": "python"
    }
  },
  "nbformat": 4,
  "nbformat_minor": 0
}